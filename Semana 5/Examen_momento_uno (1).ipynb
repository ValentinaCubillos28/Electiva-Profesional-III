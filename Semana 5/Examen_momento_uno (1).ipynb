{
 "cells": [
  {
   "cell_type": "markdown",
   "metadata": {
    "nbgrader": {
     "grade": false,
     "grade_id": "cell-c9bfcc10c56bc604",
     "locked": true,
     "schema_version": 3,
     "solution": false,
     "task": false
    }
   },
   "source": [
    "# Laboratorio 2"
   ]
  },
  {
   "cell_type": "markdown",
   "metadata": {
    "nbgrader": {
     "grade": false,
     "grade_id": "cell-c9bfcc10c56bc605",
     "locked": true,
     "schema_version": 3,
     "solution": false,
     "task": false
    }
   },
   "source": [
    "## Desarrollo de una herramienta analítica usando paquetes especializados para análisis de datos en Python"
   ]
  },
  {
   "cell_type": "markdown",
   "metadata": {
    "nbgrader": {
     "grade": false,
     "grade_id": "cell-c9bfcc10c56bc606",
     "locked": true,
     "schema_version": 3,
     "solution": false,
     "task": false
    }
   },
   "source": [
    "Para el desarrollo de esta actividad puedes utilizar cualquier librería externa. Te recomendamos leer por completo el enunciado del laboratorio antes de comenzar, de forma que tengas claro el propósito global de la actividad y puedas desarrollar tu solución apuntando a él desde el inicio."
   ]
  },
  {
   "cell_type": "markdown",
   "metadata": {
    "nbgrader": {
     "grade": false,
     "grade_id": "cell-c9bfcc10c56bc607",
     "locked": true,
     "schema_version": 3,
     "solution": false,
     "task": false
    }
   },
   "source": [
    "Al desarrollar este laboratorio pondrás a prueba tus habilidades para:\n",
    "\n",
    "1. Identificar y abordar preguntas de negocio y de *analytics*.\n",
    "2. Leer datos desde archivos y almacenarlos utilizando métodos de librerías especializadas.\n",
    "3. Explorar, modificar, limpiar y unir objetos tablas de datos.\n",
    "4. Implementar análisis combinando métricas descriptivas, visualización, filtrado y agrupación.\n",
    "5. Implementar análisis basado en modelos estadísticos o de *machine learning*."
   ]
  },
  {
   "cell_type": "markdown",
   "metadata": {
    "nbgrader": {
     "grade": false,
     "grade_id": "cell-cfa5e4dba79247b3",
     "locked": true,
     "schema_version": 3,
     "solution": false,
     "task": false
    }
   },
   "source": [
    "##  Contexto: desigualdad y factores de éxito en pruebas Saber 11 en Colombia"
   ]
  },
  {
   "cell_type": "markdown",
   "metadata": {
    "nbgrader": {
     "grade": false,
     "grade_id": "cell-cfa5e4dba79247b4",
     "locked": true,
     "schema_version": 3,
     "solution": false,
     "task": false
    }
   },
   "source": [
    "El ICFES es el Instituto Colombiano para el Fomento de la Educación Superior y está adscrito al Ministerio de Educación a nivel nacional. Como parte de sus funciones, el ICFES administra las pruebas Saber 11, las cuales evalúan a todos los estudiantes del país al final de su educación secundaria. El examen contiene preguntas que evalúan una variedad de áreas del conocimiento (ej., matemáticas, física, inglés, etc.) y se lleva a cabo dos veces al año, ajustándose a los diferentes calendarios académicos que siguen las instituciones educativas. Al momento de inscribirse a las pruebas, los estudiantes diligencian un formulario que recoge información sociodemográfica y relacionada con la institución a la que pertenecen. El fin es obtener información con respecto al desempeño de los estudiantes en la prueba y de sus características."
   ]
  },
  {
   "cell_type": "markdown",
   "metadata": {
    "nbgrader": {
     "grade": false,
     "grade_id": "cell-cfa5e4dba79247b6",
     "locked": true,
     "schema_version": 3,
     "solution": false,
     "task": false
    }
   },
   "source": [
    "Al igual que otros países de la región, Colombia tiene grandes retos en términos de desigualdad, particularmente en el contexto de educación primaria y secundaria. Por esta razón, para el Estado colombiano es muy valioso el amplio registro de datos que el ICFES genera alrededor de las pruebas Saber 11, pues con ellos se pueden generar análisis sobre la calidad de la educación en el país y eventualmente dar lugar a recomendaciones sobre políticas públicas. En particular, la problemática a abordar en este caso de estudio es la desigualdad y factores de éxito en las pruebas Saber 11. "
   ]
  },
  {
   "cell_type": "markdown",
   "metadata": {
    "nbgrader": {
     "grade": false,
     "grade_id": "cell-cfa5e4dba79247b7",
     "locked": true,
     "schema_version": 3,
     "solution": false,
     "task": false
    }
   },
   "source": [
    "Los objetivos de este caso de estudio son:\n",
    "\n",
    "* Entender el contenido de los archivos de datos proporcionados sobre las pruebas Saber 11, generar un reporte acerca de sus características principales y seleccionar las partes de dicho contenido que podrían ser relevantes para el análisis.\n",
    "\n",
    "\n",
    "* Identificar características de las variables de interés y relaciones entre ellas, por ejemplo, a través de agrupación, visualizaciones y estadísticas descriptivas.\n",
    "\n",
    "\n",
    "* Proponer un modelo que busque relacionar las variables de interés con el desempeño de los estudiantes y concluir acerca de los posibles hallazgos que se podrían reportar para el *stakeholder*.\n",
    "\n",
    "\n",
    "* Generar una herramienta que permita a un usuario interactuar con alguno de los parámetros del análisis realizado de forma relevante en el contexto del problema."
   ]
  },
  {
   "cell_type": "markdown",
   "metadata": {
    "nbgrader": {
     "grade": false,
     "grade_id": "cell-997648f928b84190",
     "locked": true,
     "schema_version": 3,
     "solution": false,
     "task": false
    }
   },
   "source": [
    "## Fase 1: obtener e inspeccionar archivos"
   ]
  },
  {
   "cell_type": "markdown",
   "metadata": {
    "nbgrader": {
     "grade": false,
     "grade_id": "cell-997648f928b84191",
     "locked": true,
     "schema_version": 3,
     "solution": false,
     "task": false
    }
   },
   "source": [
    "En esta fase te harás una idea general del contenido de los datos y generarás un reporte al respecto (ej., imprimiendo mensajes, presentando tablas de resumen, etc.). Además, seleccionarás un segmento de los datos que consideres útil para realizar tu análisis."
   ]
  },
  {
   "cell_type": "markdown",
   "metadata": {
    "nbgrader": {
     "grade": false,
     "grade_id": "cell-997648f928b84192",
     "locked": true,
     "schema_version": 3,
     "solution": false,
     "task": false
    }
   },
   "source": [
    "Pautas generales:\n",
    "\n",
    "* Utilizar una librería especializada para leer los archivos de datos y agregarlos según sea necesario (ej., utilizando los métodos `append` o `concat` si eliges cargarlos utilizando la librería `pandas`).\n",
    "* Inspeccionar el archivo a partir de sus encabezados, columnas y descripciones de las variables según su tipo (ej., numéricas, categóricas).\n",
    "* Declarar una estructura de datos (ej., una lista) para almacenar un subconjunto de variables que puedan ser relevantes para la problemática de interés."
   ]
  },
  {
   "cell_type": "markdown",
   "metadata": {
    "nbgrader": {
     "grade": false,
     "grade_id": "cell-997648f928b84193",
     "locked": true,
     "schema_version": 3,
     "solution": false,
     "task": false
    }
   },
   "source": [
    "Preguntas guía:\n",
    "\n",
    "* ¿Qué dimensiones tienen los datos?\n",
    "* ¿Con cuántos años y periodos de evaluación se cuenta?\n",
    "* ¿Cuáles variables pueden ser de interés para la problemática planteada?\n",
    "* ¿Qué porcentaje de datos faltantes o no válidos hay en las columnas de interés? ¿Qué planteas para manejarlos?"
   ]
  },
  {
   "cell_type": "code",
   "execution_count": 262,
   "metadata": {
    "nbgrader": {
     "grade": true,
     "grade_id": "cell-83d3b414ead0cca9",
     "locked": false,
     "points": 20,
     "schema_version": 3,
     "solution": true,
     "task": false
    }
   },
   "outputs": [],
   "source": [
    "# Implementa tu respuesta en esta celda\n",
    "import pandas as pd\n",
    "import numpy as np\n",
    "import matplotlib.pyplot as plt\n",
    "from sklearn.model_selection import train_test_split\n",
    "from sklearn.linear_model import LinearRegression\n",
    "from sklearn.preprocessing import LabelEncoder\n",
    "from sklearn.ensemble import RandomForestRegressor\n",
    "from sklearn.metrics import mean_squared_error, r2_score\n",
    "\n",
    "datos_a = pd.read_csv(\"Archivos/Saber_11°_2020-1_20250915.csv\")\n",
    "datos_b = pd.read_csv(\"Archivos/Saber_11°_2020-2_20250915.csv\")"
   ]
  },
  {
   "cell_type": "code",
   "execution_count": 263,
   "metadata": {},
   "outputs": [
    {
     "name": "stdout",
     "output_type": "stream",
     "text": [
      "Dimenciones de los datos de la prueba Saber 11: \n",
      "Año evaluado: 2020\n",
      "Periodos Evaluados: calendario a y calendario b\n",
      "Número de filas y columnas por calendario:\n",
      "Calendario A: Filas: 15435. Columnas: 78. \n",
      "Calendario B: Filas: 504872. Columnas: 81. \n",
      "\n",
      "Datos seleccionados para el análisis: \n",
      "['FAMI_TIENEINTERNET', 'FAMI_TIENECOMPUTADOR', 'FAMI_ESTRATOVIVIENDA', 'COLE_NATURALEZA', 'COLE_JORNADA', 'COLE_CALENDARIO', 'COLE_BILINGUE', 'PUNT_GLOBAL']\n",
      "\n",
      "Dimensiones de los datos: \n",
      "Calendario A -> Filas: 15435, Columnas: 8\n",
      "Calendario B -> Filas: 504872, Columnas: 8\n",
      "\n",
      "Datos concatenados de ambos calendarios\n",
      "Filas: 520307, Columnas: 8\n",
      "\n",
      "Porcentaje de Valores vacios por columna\n",
      "FAMI_TIENEINTERNET       2.920199\n",
      "FAMI_TIENECOMPUTADOR     4.154470\n",
      "FAMI_ESTRATOVIVIENDA     3.557515\n",
      "COLE_NATURALEZA          0.000000\n",
      "COLE_JORNADA             0.000000\n",
      "COLE_CALENDARIO          0.000000\n",
      "COLE_BILINGUE           16.456054\n",
      "PUNT_GLOBAL              0.000000\n",
      "dtype: float64\n",
      "\n",
      "Número de filas y columnas resultantes de la eliminación de valores nulos o faltantes:\n",
      "Filas: 411841. Columnas: 8\n"
     ]
    }
   ],
   "source": [
    "print(\"Dimenciones de los datos de la prueba Saber 11: \")\n",
    "print(\"Año evaluado: 2020\")\n",
    "print (\"Periodos Evaluados: calendario a y calendario b\")\n",
    "\n",
    "print(\"Número de filas y columnas por calendario:\")\n",
    "print(f\"Calendario A: Filas: {datos_a.shape[0]}. Columnas: {datos_a.shape[1]}. \")\n",
    "print(f\"Calendario B: Filas: {datos_b.shape[0]}. Columnas: {datos_b.shape[1]}. \")\n",
    "\n",
    "variables_de_interes =[\n",
    "\"FAMI_TIENEINTERNET\",\n",
    "\"FAMI_TIENECOMPUTADOR\",\n",
    "\"FAMI_ESTRATOVIVIENDA\",\n",
    "\"COLE_NATURALEZA\",\n",
    "\"COLE_JORNADA\",\n",
    "\"COLE_CALENDARIO\",\n",
    "\"COLE_BILINGUE\",\n",
    "\"PUNT_GLOBAL\"\n",
    "]\n",
    "\n",
    "print(\"\\nDatos seleccionados para el análisis: \")\n",
    "print(list(variables_de_interes))\n",
    "\n",
    "datos_eliminados_a = datos_a[variables_de_interes]\n",
    "datos_eliminados_b = datos_b[variables_de_interes]\n",
    "\n",
    "print(\"\\nDimensiones de los datos: \")\n",
    "print(f\"Calendario A -> Filas: {datos_eliminados_a.shape[0]}, Columnas: {datos_eliminados_a.shape[1]}\")\n",
    "print(f\"Calendario B -> Filas: {datos_eliminados_b.shape[0]}, Columnas: {datos_eliminados_b.shape[1]}\")\n",
    "\n",
    "datos = pd.concat([datos_eliminados_a, datos_eliminados_b], axis=0)\n",
    "\n",
    "print(\"\\nDatos concatenados de ambos calendarios\")\n",
    "print(f\"Filas: {datos.shape[0]}, Columnas: {datos.shape[1]}\")\n",
    "\n",
    "num_total_nan = datos.isna().sum().sum()\n",
    "num_total_notnull = datos.notna().sum().sum()\n",
    "\n",
    "Datos_faltantes = datos.isnull().mean() * 100\n",
    "print(\"\\nPorcentaje de Valores vacios por columna\")\n",
    "print(Datos_faltantes)\n",
    "\n",
    "datos_Finales = datos.dropna()\n",
    "print(\"\\nNúmero de filas y columnas resultantes de la eliminación de valores nulos o faltantes:\")\n",
    "print(f\"Filas: {datos_Finales.shape[0]}. Columnas: {datos_Finales.shape[1]}\")\n",
    "\n"
   ]
  },
  {
   "cell_type": "markdown",
   "metadata": {
    "nbgrader": {
     "grade": false,
     "grade_id": "cell-015824b401dc270e",
     "locked": true,
     "schema_version": 3,
     "solution": false,
     "task": false
    }
   },
   "source": [
    "\n",
    "## Fase 2: identificar características y relaciones en las variables"
   ]
  },
  {
   "cell_type": "markdown",
   "metadata": {
    "nbgrader": {
     "grade": false,
     "grade_id": "cell-015824b401dc270e1",
     "locked": true,
     "schema_version": 3,
     "solution": false,
     "task": false
    }
   },
   "source": [
    "En esta fase realizarás análisis descriptivo para identificar posibles patrones o relaciones entre las variables de interés para la problemática planteada. Además, expondrás estadísticas descriptivas y visualizaciones para concluir al respecto de los patrones y las relaciones identificadas. Finalmente, elegirás el segmento de los datos sobre el cual profundizarás con tu análisis (este puede ser, o no, igual al seleccionado anteriormente)."
   ]
  },
  {
   "cell_type": "markdown",
   "metadata": {
    "nbgrader": {
     "grade": false,
     "grade_id": "cell-015824b401dc270e2",
     "locked": true,
     "schema_version": 3,
     "solution": false,
     "task": false
    }
   },
   "source": [
    "Pautas generales:\n",
    "\n",
    "* Calcular estadísticas descriptivas básicas (por lo menos, media/mediana y varianza/desviación) para cada variable sociodemográfica relevante en el contexto del problema.\n",
    "* Utilizar librerías especializadas (ej., `matplotlib`, `seaborn`, etc.) para inspeccionar visualmente variables de interés. Los métodos `distplot`, `pairplot`, `boxplot`, o `violinplot`, entre otros, pueden ser útiles.\n",
    "* Utilizar el método `groupby` de `pandas`, en conjunto con métodos de visualización, puede proveer evidencia del impacto de las variables sociodemográficas de interés sobre el desempeño de los estudiantes en la prueba."
   ]
  },
  {
   "cell_type": "markdown",
   "metadata": {
    "nbgrader": {
     "grade": false,
     "grade_id": "cell-015824b401dc270e3",
     "locked": true,
     "schema_version": 3,
     "solution": false,
     "task": false
    }
   },
   "source": [
    "Preguntas guía:\n",
    "\n",
    "* ¿Hay patrones de interés en las distribuciones de las variables o en las relaciones entre ellas?\n",
    "* ¿Consideras que existe algún impacto significativo de variables sociodemográficas en los puntajes globales o por área?\n",
    "* ¿Sobre cuáles variables harías un análisis más profundo?"
   ]
  },
  {
   "cell_type": "code",
   "execution_count": 264,
   "metadata": {
    "nbgrader": {
     "grade": true,
     "grade_id": "cell-e13f54c7af1552c9",
     "locked": false,
     "points": 20,
     "schema_version": 3,
     "solution": true,
     "task": false
    }
   },
   "outputs": [
    {
     "name": "stdout",
     "output_type": "stream",
     "text": [
      "Analisis de variables como, acceso a internet, estrato socioeconomico, y jornada\n",
      "Estadisticas del puntaje global\n",
      "count    520307.000000\n",
      "mean        249.565962\n",
      "std          49.568905\n",
      "min           0.000000\n",
      "25%         212.000000\n",
      "50%         246.000000\n",
      "75%         283.000000\n",
      "max         500.000000\n",
      "Name: PUNT_GLOBAL, dtype: float64\n",
      "\n",
      "Acceso a Internet:\n",
      "FAMI_TIENEINTERNET\n",
      "Si    70.490366\n",
      "No    29.509634\n",
      "Name: proportion, dtype: float64\n",
      "\n",
      "Estrato socioeconómico:\n",
      "FAMI_ESTRATOVIVIENDA\n",
      "Estrato 2      36.795756\n",
      "Estrato 1      30.619155\n",
      "Estrato 3      21.295863\n",
      "Estrato 4       5.232793\n",
      "Sin Estrato     3.144299\n",
      "Estrato 5       1.872470\n",
      "Estrato 6       1.039663\n",
      "Name: proportion, dtype: float64\n",
      "\n",
      "Naturaleza del colegio:\n",
      "COLE_NATURALEZA\n",
      "OFICIAL       75.280171\n",
      "NO OFICIAL    24.719829\n",
      "Name: proportion, dtype: float64\n",
      "\n",
      "Promedio del puntaje por estrato socioeconómico:\n",
      "FAMI_ESTRATOVIVIENDA\n",
      "Estrato 1      236.955371\n",
      "Estrato 2      250.468003\n",
      "Estrato 3      262.842881\n",
      "Estrato 4      276.773974\n",
      "Estrato 5      282.087484\n",
      "Estrato 6      283.352693\n",
      "Sin Estrato    210.097161\n",
      "Name: PUNT_GLOBAL, dtype: float64\n",
      "\n",
      "Promedio del puntaje según acceso a Internet:\n",
      "FAMI_TIENEINTERNET\n",
      "No    226.310586\n",
      "Si    259.783587\n",
      "Name: PUNT_GLOBAL, dtype: float64\n",
      "\n",
      "Promedio del puntaje según naturaleza del colegio:\n",
      "COLE_NATURALEZA\n",
      "NO OFICIAL    273.175223\n",
      "OFICIAL       241.813364\n",
      "Name: PUNT_GLOBAL, dtype: float64\n",
      "\n",
      "Promedio del puntaje según jornada:\n",
      "COLE_JORNADA\n",
      "COMPLETA    279.782661\n",
      "MAÑANA      247.277720\n",
      "NOCHE       212.406269\n",
      "SABATINA    212.286214\n",
      "TARDE       243.903266\n",
      "UNICA       249.232022\n",
      "Name: PUNT_GLOBAL, dtype: float64\n"
     ]
    },
    {
     "data": {
      "image/png": "[encoded data removed]",
      "text/plain": [
       "<Figure size 800x500 with 1 Axes>"
      ]
     },
     "metadata": {},
     "output_type": "display_data"
    },
    {
     "name": "stdout",
     "output_type": "stream",
     "text": [
      "Conclusión del gráfico: \n",
      "La mayoria de los estudiantes sacan en promedio puntajes de entre 200 y 300\n"
     ]
    },
    {
     "data": {
      "text/plain": [
       "<Figure size 800x500 with 0 Axes>"
      ]
     },
     "metadata": {},
     "output_type": "display_data"
    },
    {
     "data": {
      "image/png": "[encoded data removed]",
      "text/plain": [
       "<Figure size 640x480 with 1 Axes>"
      ]
     },
     "metadata": {},
     "output_type": "display_data"
    },
    {
     "name": "stdout",
     "output_type": "stream",
     "text": [
      "Conclusión del gráfico: \n",
      "El puntaje si tiene mucho que ver con el estrato socioeconomico, a mayor estrato mayor puntuacion tambien\n"
     ]
    },
    {
     "data": {
      "image/png": "[encoded data removed]",
      "text/plain": [
       "<Figure size 800x500 with 1 Axes>"
      ]
     },
     "metadata": {},
     "output_type": "display_data"
    },
    {
     "name": "stdout",
     "output_type": "stream",
     "text": [
      "Conclusión del gráfico: \n",
      "El acceso a internet es importante para sacar un buen puntaje\n"
     ]
    },
    {
     "data": {
      "image/png": "[encoded data removed]",
      "text/plain": [
       "<Figure size 800x500 with 1 Axes>"
      ]
     },
     "metadata": {},
     "output_type": "display_data"
    },
    {
     "name": "stdout",
     "output_type": "stream",
     "text": [
      "Conclusión del gráfico: \n",
      "Los colegios privados es donde se presentan puntajes mas altos\n"
     ]
    },
    {
     "data": {
      "text/plain": [
       "<Figure size 800x500 with 0 Axes>"
      ]
     },
     "metadata": {},
     "output_type": "display_data"
    },
    {
     "data": {
      "image/png": "[encoded data removed]",
      "text/plain": [
       "<Figure size 640x480 with 1 Axes>"
      ]
     },
     "metadata": {},
     "output_type": "display_data"
    },
    {
     "name": "stdout",
     "output_type": "stream",
     "text": [
      "Conclusión del gráfico: \n",
      "La jornada completa es donde se muestran los puntajes mas altos\n"
     ]
    }
   ],
   "source": [
    "# Implementa tu respuesta en esta celda\n",
    "print(\"Analisis de variables como, acceso a internet, estrato socioeconomico, y jornada\")\n",
    "\n",
    "print(\"Estadisticas del puntaje global\")\n",
    "print(datos[\"PUNT_GLOBAL\"].describe())\n",
    "\n",
    "print(\"\\nAcceso a Internet:\")\n",
    "print(datos[\"FAMI_TIENEINTERNET\"].value_counts(normalize=True) * 100)\n",
    "\n",
    "print(\"\\nEstrato socioeconómico:\")\n",
    "print(datos[\"FAMI_ESTRATOVIVIENDA\"].value_counts(normalize=True) * 100)\n",
    "\n",
    "print(\"\\nNaturaleza del colegio:\")\n",
    "print(datos[\"COLE_NATURALEZA\"].value_counts(normalize=True) * 100)\n",
    "\n",
    "print(\"\\nPromedio del puntaje por estrato socioeconómico:\")\n",
    "print(datos.groupby(\"FAMI_ESTRATOVIVIENDA\")[\"PUNT_GLOBAL\"].mean())\n",
    "\n",
    "print(\"\\nPromedio del puntaje según acceso a Internet:\")\n",
    "print(datos.groupby(\"FAMI_TIENEINTERNET\")[\"PUNT_GLOBAL\"].mean())\n",
    "\n",
    "print(\"\\nPromedio del puntaje según naturaleza del colegio:\")\n",
    "print(datos.groupby(\"COLE_NATURALEZA\")[\"PUNT_GLOBAL\"].mean())\n",
    "\n",
    "print(\"\\nPromedio del puntaje según jornada:\")\n",
    "print(datos.groupby(\"COLE_JORNADA\")[\"PUNT_GLOBAL\"].mean())\n",
    "\n",
    "\n",
    "plt.figure(figsize=(8,5))\n",
    "plt.hist(datos[\"PUNT_GLOBAL\"].dropna(), bins=30, color=\"purple\", edgecolor=\"black\")\n",
    "plt.title(\"Puntaje Global\")\n",
    "plt.xlabel(\"Puntaje Global\")\n",
    "plt.ylabel(\"Frecuencia\")\n",
    "plt.show()\n",
    "\n",
    "print(\"Conclusión del gráfico: \")\n",
    "print(\"La mayoria de los estudiantes sacan en promedio puntajes de entre 200 y 300\")\n",
    "\n",
    "plt.figure(figsize=(8,5))\n",
    "datos.boxplot(column=\"PUNT_GLOBAL\", by=\"FAMI_ESTRATOVIVIENDA\",\n",
    "              grid=False, patch_artist=True,\n",
    "              boxprops=dict(facecolor=\"orange\", color=\"black\"))\n",
    "plt.title(\"Puntaje según Estrato Socioeconómico\")\n",
    "plt.suptitle(\"\")\n",
    "plt.xlabel(\"Estrato Socioeconómico\")\n",
    "plt.ylabel(\"Puntaje Global\")\n",
    "plt.show()\n",
    "\n",
    "print(\"Conclusión del gráfico: \")\n",
    "print(\"El puntaje si tiene mucho que ver con el estrato socioeconomico, a mayor estrato mayor puntuacion tambien\")\n",
    "\n",
    "plt.figure(figsize=(8,5))\n",
    "datos.groupby(\"FAMI_TIENEINTERNET\")[\"PUNT_GLOBAL\"].mean().plot(kind=\"bar\", color=\"green\", edgecolor=\"black\")\n",
    "plt.title(\"Promedio del Puntaje según Acceso a Internet\")\n",
    "plt.xlabel(\"Acceso a Internet\")\n",
    "plt.ylabel(\"Promedio Puntaje Global\")\n",
    "plt.show()\n",
    "\n",
    "print(\"Conclusión del gráfico: \")\n",
    "print(\"El acceso a internet es importante para sacar un buen puntaje\")\n",
    "\n",
    "plt.figure(figsize=(8,5))\n",
    "datos.groupby(\"COLE_NATURALEZA\")[\"PUNT_GLOBAL\"].mean().plot(kind=\"bar\", color=\"pink\", edgecolor=\"black\")\n",
    "plt.title(\"Promedio del Puntaje según Naturaleza del Colegio\")\n",
    "plt.xlabel(\"Naturaleza del Colegio\")\n",
    "plt.ylabel(\"Promedio Puntaje Global\")\n",
    "plt.show()\n",
    "\n",
    "print(\"Conclusión del gráfico: \")\n",
    "print(\"Los colegios privados es donde se presentan puntajes mas altos\")\n",
    "\n",
    "plt.figure(figsize=(8,5))\n",
    "datos.boxplot(column=\"PUNT_GLOBAL\", by=\"COLE_JORNADA\",\n",
    "              grid=False, patch_artist=True,\n",
    "              boxprops=dict(facecolor=\"red\", color=\"black\"))\n",
    "plt.title(\"Puntaje según Jornada\")\n",
    "plt.suptitle(\"\")\n",
    "plt.xlabel(\"Jornada\")\n",
    "plt.ylabel(\"Puntaje Global\")\n",
    "plt.show()\n",
    "\n",
    "print(\"Conclusión del gráfico: \")\n",
    "print(\"La jornada completa es donde se muestran los puntajes mas altos\")\n"
   ]
  },
  {
   "cell_type": "markdown",
   "metadata": {
    "nbgrader": {
     "grade": false,
     "grade_id": "cell-216057b23d3cc36d1",
     "locked": true,
     "schema_version": 3,
     "solution": false,
     "task": false
    }
   },
   "source": [
    "## Fase 3: abordar relación variables-desempeño a través de un modelo"
   ]
  },
  {
   "cell_type": "markdown",
   "metadata": {
    "nbgrader": {
     "grade": false,
     "grade_id": "cell-216057b23d3cc36d2",
     "locked": true,
     "schema_version": 3,
     "solution": false,
     "task": false
    }
   },
   "source": [
    "En esta fase propondrás, implementarás y reportarás el desempeño de uno o más modelos (al menos uno predictivo) que busquen explicar las relaciones entre factores sociodemográficos y el desempeño en la prueba. Además, concluirás con respecto a la validez de al menos un modelo y los posibles hallazgos que se podrían reportar para el *stakeholder*."
   ]
  },
  {
   "cell_type": "markdown",
   "metadata": {
    "nbgrader": {
     "grade": false,
     "grade_id": "cell-216057b23d3cc36d3",
     "locked": true,
     "schema_version": 3,
     "solution": false,
     "task": false
    }
   },
   "source": [
    "Pautas generales:\n",
    "\n",
    "* Seleccionar variables y proponer modelos acordes a estas y al contexto del problema.\n",
    "* Utilizar librerías especializadas (ej., `statsmodels`, `sklearn`, etc.) para indagar sobre los aspectos que contribuyen al éxito de los estudiantes. Los módulos correspondientes a regresión lineal y regresión logística pueden ser útiles.\n",
    "* Asegurar el cumplimiento de los supuestos y buenas prácticas de cada modelo.\n",
    "* Utilizar las métricas de evaluación de desempeño (disponibles en las librerías especilizadas), para concluir sobre la validez de los modelos propuestos."
   ]
  },
  {
   "cell_type": "markdown",
   "metadata": {
    "nbgrader": {
     "grade": false,
     "grade_id": "cell-216057b23d3cc36d4",
     "locked": true,
     "schema_version": 3,
     "solution": false,
     "task": false
    }
   },
   "source": [
    "Preguntas guía:\n",
    "\n",
    "* ¿Existe algún sub-conjunto de variables socio-demográficas que explique razonablemente bien el desempeño de los estudiantes en la prueba?"
   ]
  },
  {
   "cell_type": "code",
   "execution_count": 265,
   "metadata": {},
   "outputs": [
    {
     "name": "stdout",
     "output_type": "stream",
     "text": [
      "['S' 'SIN_DATO' 'N']\n",
      "[164. 202. 162. 188. 274. 198. 160. 207. 211. 295. 360. 172. 244. 237.\n",
      " 260. 307. 178. 306. 345. 174. 220. 257. 322. 315. 228. 193. 171. 305.\n",
      " 362. 248. 209. 349. 192. 287. 200. 189. 239. 186. 151. 327. 290. 249.\n",
      " 203. 243. 265. 229. 173. 185. 313. 158. 310. 210. 276. 341. 321. 289.\n",
      " 161. 254. 165. 181. 238. 190. 148. 194. 293. 212. 379. 224. 269. 208.\n",
      " 179. 187. 205. 219. 223. 177. 246. 123. 286. 197. 168. 343. 324. 256.\n",
      " 150. 251. 302. 356. 240. 370. 368. 284. 296. 361. 233. 157. 266. 320.\n",
      " 299. 196. 264. 245. 152. 385. 195. 277. 355. 235. 252. 426. 330. 340.\n",
      " 382. 288. 262. 242. 255. 272. 142. 270. 263. 213. 282. 175. 146. 166.\n",
      " 308. 336. 170. 176. 250. 221. 139. 319. 312. 217. 247. 303. 334. 227.\n",
      " 236. 167. 348. 183. 218. 201. 273. 234. 326. 182. 180. 304. 184. 133.\n",
      " 267. 332. 317. 259. 258. 138. 144. 231. 222. 294. 318. 369. 292. 226.\n",
      " 225. 155. 300. 367. 298. 329. 159. 278.  69. 191. 268. 323. 429. 169.\n",
      " 199. 156. 275. 216. 149. 375. 153. 381. 427. 283. 363. 253. 232. 378.\n",
      " 346. 204. 359. 163. 333. 230. 261. 393. 347. 335. 285. 396. 344. 279.\n",
      " 338. 350. 353. 280. 215.  91. 358. 241. 398. 291. 352. 301. 325. 271.\n",
      " 145. 214. 380. 351. 147. 377. 328. 281. 206. 357. 297. 366. 354. 342.\n",
      " 339. 121. 365. 140. 311. 137. 388.  14. 373. 316. 337. 403. 376. 314.\n",
      " 412. 364. 383. 143. 400. 372. 331. 309. 389. 374. 371. 392. 405. 407.\n",
      " 410. 387.  93. 386. 416. 413. 384. 430. 154. 390. 411. 409. 454. 455.\n",
      " 424. 439. 394. 404. 419. 420. 402. 401. 425. 391. 395. 423. 422. 418.\n",
      " 428. 415. 475. 397. 468. 408. 421. 432. 406. 437. 457. 445. 471. 414.\n",
      " 431. 450. 442. 134. 448. 446. 449. 435. 141. 438. 132. 417. 443. 440.\n",
      " 433.   0. 434. 472. 399. 479.  12.  72.  25. 465.  28. 103. 136. 135.\n",
      " 129.  24.  95. 126.  23. 112. 447. 125. 131. 114. 127. 458. 128.  96.\n",
      "  76. 104.  29.  27. 130.  78.  73. 122. 115.  48. 444.  92. 491.  57.\n",
      "  99. 466.  35. 111. 120.  97. 473. 441.  80.  59.  32.  98. 470. 117.\n",
      " 452.  77. 492.  67.  30.  33.  21. 436. 100. 110. 106.  88. 108.  20.\n",
      " 461. 500. 113. 460. 462. 107.  22. 463.  70.  40. 119.  11. 456.  46.\n",
      "  83.  45. 476.  26.  61. 477.  55.  94.  74.  87. 459. 102.  39.  54.\n",
      " 464.  60.  90.  62.  89.  36.  38.  58.  53. 467.  42.  51.  37. 105.]\n",
      "['A' 'OTRO' 'B']\n",
      "['NOCHE' 'SABATINA' 'MAÑANA' 'COMPLETA' 'UNICA' 'TARDE']\n",
      "['OFICIAL' 'NO OFICIAL']\n",
      "['Estrato 1' 'SIN_DATO' 'Estrato 6' 'Estrato 5' 'Estrato 2' 'Estrato 4'\n",
      " 'Estrato 3' 'Sin Estrato']\n",
      "['No' 'SIN_DATO' 'Si']\n",
      "['No' 'SIN_DATO' 'Si']\n"
     ]
    }
   ],
   "source": [
    "print(dfCopy[\"COLE_BILINGUE\"].unique())\n",
    "print(dfCopy[\"PUNT_GLOBAL\"].unique())\n",
    "print(dfCopy[\"COLE_CALENDARIO\"].unique())\n",
    "print(dfCopy[\"COLE_JORNADA\"].unique())\n",
    "print(dfCopy[\"COLE_NATURALEZA\"].unique())\n",
    "print(dfCopy[\"FAMI_ESTRATOVIVIENDA\"].unique())\n",
    "print(dfCopy[\"FAMI_TIENECOMPUTADOR\"].unique())\n",
    "print(dfCopy[\"FAMI_TIENEINTERNET\"].unique())"
   ]
  },
  {
   "cell_type": "code",
   "execution_count": 266,
   "metadata": {},
   "outputs": [
    {
     "name": "stdout",
     "output_type": "stream",
     "text": [
      "MSE: 1813.6744306285373\n",
      "RMSE: 42.587256669437366\n",
      "R2 Score: 0.2641288365943132\n"
     ]
    }
   ],
   "source": [
    "dfCopy = df.copy()\n",
    "\n",
    "variables = [\n",
    "    \"FAMI_TIENEINTERNET\",\n",
    "    \"FAMI_TIENECOMPUTADOR\",\n",
    "    \"FAMI_ESTRATOVIVIENDA\",\n",
    "    \"COLE_NATURALEZA\",\n",
    "    \"COLE_JORNADA\",\n",
    "    \"COLE_CALENDARIO\",\n",
    "    \"COLE_BILINGUE\",\n",
    "    \"PUNT_GLOBAL\"\n",
    "]\n",
    "\n",
    "df_modelo = dfCopy[variables].copy()\n",
    "\n",
    "cols_categoricas = variables[:-1]\n",
    "\n",
    "le = LabelEncoder()\n",
    "\n",
    "for col in cols_categoricas:\n",
    "    df_modelo[col] = df_modelo[col].astype(str).str.strip().str.upper()\n",
    "    df_modelo[col] = le.fit_transform(df_modelo[col])\n",
    "\n",
    "df_modelo = df_modelo.dropna()\n",
    "\n",
    "X = df_modelo.drop(columns=[\"PUNT_GLOBAL\"])\n",
    "y = df_modelo[\"PUNT_GLOBAL\"]\n",
    "\n",
    "X_train, X_test, y_train, y_test = train_test_split(\n",
    "    X, y, test_size=0.2, random_state=42\n",
    ")\n",
    "\n",
    "modelo_rf = RandomForestRegressor(\n",
    "    n_estimators=200,\n",
    "    max_depth=15,\n",
    "    min_samples_split=5,\n",
    "    random_state=42\n",
    ")\n",
    "\n",
    "modelo_rf.fit(X_train, y_train)\n",
    "y_pred = modelo_rf.predict(X_test)\n",
    "\n",
    "mse = mean_squared_error(y_test, y_pred)\n",
    "rmse = np.sqrt(mse)\n",
    "r2 = r2_score(y_test, y_pred)\n",
    "\n",
    "print(\"MSE:\", mse)\n",
    "print(\"RMSE:\", rmse)\n",
    "print(\"R2 Score:\", r2)"
   ]
  },
  {
   "cell_type": "markdown",
   "metadata": {
    "nbgrader": {
     "grade": false,
     "grade_id": "cell-48c276616fb862c5",
     "locked": true,
     "schema_version": 3,
     "solution": false,
     "task": false
    }
   },
   "source": [
    "## Fase 4"
   ]
  },
  {
   "cell_type": "markdown",
   "metadata": {
    "nbgrader": {
     "grade": false,
     "grade_id": "cell-eb30850cd7109d78",
     "locked": true,
     "schema_version": 3,
     "solution": false,
     "task": false
    }
   },
   "source": [
    "Deberás elegir y realizar una de las dos alternativas que se encuentran a continuación."
   ]
  },
  {
   "cell_type": "markdown",
   "metadata": {
    "nbgrader": {
     "grade": false,
     "grade_id": "cell-378e2b071d246af8",
     "locked": true,
     "schema_version": 3,
     "solution": false,
     "task": false
    }
   },
   "source": [
    "### Alternativa 1: desarrollar una herramienta interactiva de análisis"
   ]
  },
  {
   "cell_type": "markdown",
   "metadata": {
    "nbgrader": {
     "grade": false,
     "grade_id": "cell-378e2b071d246af9",
     "locked": true,
     "schema_version": 3,
     "solution": false,
     "task": false
    }
   },
   "source": [
    "En esta fase desarrollarás, a partir de alguno de los análisis realizados, una herramienta interactiva que sea relevante en el contexto del problema, acompañada de las instrucciones necesarias para que un usuario la pueda utilizar."
   ]
  },
  {
   "cell_type": "markdown",
   "metadata": {
    "nbgrader": {
     "grade": false,
     "grade_id": "cell-378e2b071d246af10",
     "locked": true,
     "schema_version": 3,
     "solution": false,
     "task": false
    }
   },
   "source": [
    "Pautas generales:\n",
    "\n",
    "* Seleccionar uno de los análisis previos que pueda verse enriquecido con alguna característica de interactividad.\n",
    "* Seleccionar el/los parámetro(s) que el usuario podrá cambiar.\n",
    "* Desarrollar las funciones que se deben ejecutar con cada acción del usuario.\n",
    "* Utilizar una librería especializada (ej., `ipywidgets`, `panel`, etc.) para implementar la herramienta."
   ]
  },
  {
   "cell_type": "markdown",
   "metadata": {
    "nbgrader": {
     "grade": false,
     "grade_id": "cell-378e2b071d246af11",
     "locked": true,
     "schema_version": 3,
     "solution": false,
     "task": false
    }
   },
   "source": [
    "Preguntas guía:\n",
    "\n",
    "* ¿Cuál o cuáles preguntas podrá hacerle el usuario a la herramienta y cómo aporta la respuesta al análisis?\n",
    "* ¿Qué aprendizajes clave puede explorar u obtener el usuario con esta herramienta?"
   ]
  },
  {
   "cell_type": "code",
   "execution_count": 267,
   "metadata": {
    "nbgrader": {
     "grade": true,
     "grade_id": "cell-6b287262b7ce28bb",
     "locked": false,
     "points": 30,
     "schema_version": 3,
     "solution": true,
     "task": false
    }
   },
   "outputs": [],
   "source": [
    "# Implementa tu respuesta en esta celda}\n"
   ]
  },
  {
   "cell_type": "markdown",
   "metadata": {
    "nbgrader": {
     "grade": false,
     "grade_id": "cell-c8a33682f37a6fa7",
     "locked": true,
     "schema_version": 3,
     "solution": false,
     "task": false
    }
   },
   "source": [
    "### Alternativa 2: registrar en bases de datos relacionales con PySpark"
   ]
  },
  {
   "cell_type": "markdown",
   "metadata": {
    "nbgrader": {
     "grade": false,
     "grade_id": "cell-c8a33682f37a6fa8",
     "locked": true,
     "schema_version": 3,
     "solution": false,
     "task": false
    }
   },
   "source": [
    "En esta fase desarrollarás, a partir de alguno de los análisis realizados, un _script_ que sea relevante en el contexto del problema, acompañado de las instrucciones necesarias para que un usuario lo pueda ejecutar."
   ]
  },
  {
   "cell_type": "markdown",
   "metadata": {
    "nbgrader": {
     "grade": false,
     "grade_id": "cell-c8a33682f37a6fa9",
     "locked": true,
     "schema_version": 3,
     "solution": false,
     "task": false
    }
   },
   "source": [
    "Pautas generales:\n",
    "\n",
    "* Cargar en una base de datos relacional (tipo SQL) el segmento de los datos sobre el cual profundizaste en tu anális, utilizando una tabla distinta para cada categoría de campos. Por ejemplo, una categoría puedes ser información del colegio; en cuyo caso, una tabla debería contener un registro único para cada colegio y todos los campos asociados.\n",
    "\n",
    "* Los campos, a excepción de los identificadores, deben existir en un única tabla.\n",
    "\n",
    "* Cada registro debe existir una única vez en su respectiva tabla.\n",
    "\n",
    "* Cada registro debe tener un identificador único en su tabla, el cual establece una relación entre tablas.\n",
    "\n",
    "* Seleccionar uno de los modelos predictivos implementados.\n",
    "\n",
    "* Crear en la base de datos relacional una tabla que contenga únicamente los identificadores del registro y la predicción de la variable de respuesta hecha por el modelo.\n",
    "\n",
    "* Desarrollar _queries_ de SQL según las siguientes indicaciones y concluir acerca de los resultados:\n",
    "    * Un _query_ que seleccione todos registros y los agregue en una única tabla. Para esto debes relacionar las tablas por su identificador, utilizando el método `JOIN`.\n",
    "    * Un _query_ que contenga el puntaje promedio de los estudiantes, agrupado por año y por colegio.\n",
    "    * Distintos _queries_ que calculen medidas de error de predicción del modelo a partir de los datos reales y las predicciones respectivas. Debes reportar el error para cada registro, el error total de los registros de entrenamiento y el error total de los registros de prueba.\n",
    "    * Haz dos _queries_ adicionales que resulten interesantes."
   ]
  },
  {
   "cell_type": "markdown",
   "metadata": {
    "nbgrader": {
     "grade": false,
     "grade_id": "cell-c8a33682f37a6fa10",
     "locked": true,
     "schema_version": 3,
     "solution": false,
     "task": false
    }
   },
   "source": [
    "Preguntas guía:\n",
    "\n",
    "* ¿Cómo aporta la segmentación de los datos en categorías de campos al manejo de los datos?\n",
    "* ¿Qué filtros y agrupaciones podemos aplicar sobre los datos con el fin de obtener información relevante?"
   ]
  },
  {
   "cell_type": "code",
   "execution_count": 268,
   "metadata": {
    "nbgrader": {
     "grade": true,
     "grade_id": "cell-29052f96082e3438",
     "locked": false,
     "points": 0,
     "schema_version": 3,
     "solution": true,
     "task": false
    }
   },
   "outputs": [],
   "source": [
    "# Implementa tu respuesta en esta celda\n"
   ]
  },
  {
   "cell_type": "markdown",
   "metadata": {
    "nbgrader": {
     "grade": false,
     "grade_id": "cell-32cfb4282f725e3c",
     "locked": true,
     "schema_version": 3,
     "solution": false,
     "task": false
    }
   },
   "source": [
    "## Referencias"
   ]
  },
  {
   "cell_type": "markdown",
   "metadata": {
    "nbgrader": {
     "grade": false,
     "grade_id": "cell-32cfb4282f725e3c1",
     "locked": true,
     "schema_version": 3,
     "solution": false,
     "task": false
    }
   },
   "source": [
    "*  J. VanderPlas (2016) *Python Data Science Handbook: Essential Tools for Working with Data* O'Reilly Media, Inc.\n",
    "*  scikit-learn developers . (2020). Demo of DBSCAN clustering algorithm. 11 Diciembre 2020, de scikit-learn <br> https://scikit-learn.org/stable/auto_examples/cluster/plot_dbscan.html#sphx-glr-auto-examples-cluster-plot-dbscan-py"
   ]
  },
  {
   "cell_type": "markdown",
   "metadata": {
    "nbgrader": {
     "grade": false,
     "grade_id": "cell-32cfb4282f725e3c2",
     "locked": true,
     "schema_version": 3,
     "solution": false,
     "task": false
    }
   },
   "source": [
    "## Créditos"
   ]
  },
  {
   "cell_type": "markdown",
   "metadata": {
    "nbgrader": {
     "grade": false,
     "grade_id": "cell-32cfb4282f725e3c3",
     "locked": true,
     "schema_version": 3,
     "solution": false,
     "task": false
    }
   },
   "source": [
    "__Autores__: Camilo Hernando Gómez Castro, Alejandro Mantilla Redondo, Jose Fernando Barrera de Plaza, Diego Alejandro Cely Gómez.\n",
    "\n",
    "__Fecha última actualización__: 29/09/2022"
   ]
  }
 ],
 "metadata": {
  "celltoolbar": "Create Assignment",
  "kernelspec": {
   "display_name": "Python 3",
   "language": "python",
   "name": "python3"
  },
  "language_info": {
   "codemirror_mode": {
    "name": "ipython",
    "version": 3
   },
   "file_extension": ".py",
   "mimetype": "text/x-python",
   "name": "python",
   "nbconvert_exporter": "python",
   "pygments_lexer": "ipython3",
   "version": "3.10.11"
  }
 },
 "nbformat": 4,
 "nbformat_minor": 2
}
